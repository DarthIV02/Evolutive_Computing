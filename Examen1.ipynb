{
 "cells": [
  {
   "cell_type": "markdown",
   "metadata": {},
   "source": [
    "### Examen 1 -  Implementar en Python un programa simule el procedimiento derecombinación de un solo punto de los siguiente cromosomas."
   ]
  },
  {
   "cell_type": "code",
   "execution_count": 16,
   "metadata": {},
   "outputs": [
    {
     "name": "stdout",
     "output_type": "stream",
     "text": [
      "Punto de corte no valido...\n",
      "Punto de corte no valido...\n",
      "Hijo 1: [1 0 1 1 1 0 1 0]\n",
      "Hijo 2: [0 0 1 0 1 0 0 0]\n"
     ]
    }
   ],
   "source": [
    "# Examen 1 - Recombinación\n",
    "\n",
    "import numpy as np\n",
    "\n",
    "P1 = np.array([1,0,1,1,1,0,0,0]) # Padre 1\n",
    "P2 = np.array([0,0,1,0,1,0,1,0]) # Padre 2\n",
    "\n",
    "while(True):\n",
    "    try:\n",
    "        split = int(input(\"Seleccione el punto de recombinacion: \")) # Input del usuario\n",
    "        if split <= 0 or split >= P1.shape[0]: # Asegurarse que sea corte valido\n",
    "            raise Exception()\n",
    "        print(f\"Hijo 1: {np.concatenate((P1[:split], P2[split:]))}\")\n",
    "        print(f\"Hijo 2: {np.concatenate((P2[:split], P1[split:]))}\")\n",
    "        break\n",
    "\n",
    "    except:\n",
    "        print(\"Punto de corte no valido...\")"
   ]
  },
  {
   "cell_type": "code",
   "execution_count": 3,
   "metadata": {},
   "outputs": [
    {
     "data": {
      "text/plain": [
       "8"
      ]
     },
     "execution_count": 3,
     "metadata": {},
     "output_type": "execute_result"
    }
   ],
   "source": [
    "P1.shape[0]"
   ]
  }
 ],
 "metadata": {
  "kernelspec": {
   "display_name": "base",
   "language": "python",
   "name": "python3"
  },
  "language_info": {
   "codemirror_mode": {
    "name": "ipython",
    "version": 3
   },
   "file_extension": ".py",
   "mimetype": "text/x-python",
   "name": "python",
   "nbconvert_exporter": "python",
   "pygments_lexer": "ipython3",
   "version": "3.9.12"
  },
  "orig_nbformat": 4
 },
 "nbformat": 4,
 "nbformat_minor": 2
}
