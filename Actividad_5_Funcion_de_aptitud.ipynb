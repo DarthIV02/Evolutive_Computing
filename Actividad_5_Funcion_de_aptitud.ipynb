{
 "cells": [
  {
   "cell_type": "markdown",
   "metadata": {},
   "source": [
    "## Actividad 5 - Función de Aptitud"
   ]
  },
  {
   "cell_type": "code",
   "execution_count": 1,
   "metadata": {},
   "outputs": [
    {
     "name": "stdout",
     "output_type": "stream",
     "text": [
      "Valores:  [82.99628496 10.21428717 11.08045888 58.40151108 85.17555911 62.684224\n",
      " 58.91899132 98.4372145  70.76154028 15.91237585 90.68807677 68.98305804\n",
      " 48.13335176  4.9281587  66.90333603]\n",
      "Población reparada: \n",
      " [[1 1 1 1 1 1 0 0 1 0 1 0 0 0 0]\n",
      " [1 1 1 1 1 1 0 0 1 0 1 0 0 0 0]\n",
      " [1 1 1 1 0 1 0 0 1 1 0 1 0 0 0]\n",
      " [1 1 1 1 1 1 0 0 1 0 1 0 0 0 0]\n",
      " [1 1 1 1 1 1 0 0 1 0 1 0 0 0 0]]\n",
      "Valor de aptitud de la población reparada: \n",
      " [472.00194225 472.00194225 381.03374026 472.00194225 472.00194225]\n"
     ]
    }
   ],
   "source": [
    "import numpy as np\n",
    "\n",
    "def repair_func(poblation, capacity, weights):\n",
    "    for i in range(poblation.shape[0]):\n",
    "        \n",
    "        knapsack_full = True if np.dot(weights, poblation[i]) > capacity else False\n",
    "            \n",
    "        while knapsack_full == True:\n",
    "            for j in range(poblation.shape[1]):\n",
    "                poblation[i, j] = 0\n",
    "                knapsack_full = False if np.dot(weights, poblation[i]) < capacity else True\n",
    "                    \n",
    "        while knapsack_full == False:\n",
    "            for j in range(poblation.shape[1]):\n",
    "                poblation[i, j] = 1\n",
    "                if np.dot(weights, poblation[i]) > capacity:\n",
    "                    poblation[i, j] = 0\n",
    "                    knapsack_full = True\n",
    "\n",
    "poblation = np.random.randint(2, size=(5, 15)) # Cromosomas, objetos = Size\n",
    "weights = np.random.uniform(1, 10, size=(15))\n",
    "capacity = np.sum(weights)/2\n",
    "value = np.random.uniform(1, 100, size=(15))\n",
    "print(\"Valores: \", value)\n",
    "repair_func(poblation, capacity, weights)\n",
    "print(\"Población reparada: \\n\", poblation)\n",
    "print(\"Valor de aptitud de la población reparada: \\n\", np.dot(poblation, value))"
   ]
  }
 ],
 "metadata": {
  "kernelspec": {
   "display_name": "base",
   "language": "python",
   "name": "python3"
  },
  "language_info": {
   "codemirror_mode": {
    "name": "ipython",
    "version": 3
   },
   "file_extension": ".py",
   "mimetype": "text/x-python",
   "name": "python",
   "nbconvert_exporter": "python",
   "pygments_lexer": "ipython3",
   "version": "3.9.12"
  },
  "orig_nbformat": 4
 },
 "nbformat": 4,
 "nbformat_minor": 2
}
