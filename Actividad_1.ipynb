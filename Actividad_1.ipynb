{
 "cells": [
  {
   "cell_type": "code",
   "execution_count": 16,
   "metadata": {},
   "outputs": [
    {
     "name": "stdout",
     "output_type": "stream",
     "text": [
      "Calicación erronea, volver a intentar\n",
      "Calicación erronea, volver a intentar\n",
      "Calicación erronea, volver a intentar\n",
      "Calicación erronea, volver a intentar\n",
      "Calicación erronea, volver a intentar\n",
      "Calicación erronea, volver a intentar\n",
      "Tu promedio es: 6.00\n",
      "El estudiante reprobo\n"
     ]
    }
   ],
   "source": [
    "num_cal = int(input(\"Inserta el # de calificaciones: \"))\n",
    "total = 0\n",
    "i = 0\n",
    "while i < num_cal:\n",
    "    cal = int(input(f\"Inserte la calificación {i+1}: \"))\n",
    "    if (cal > 0 and cal <= 10):\n",
    "        total += cal\n",
    "        i += 1\n",
    "    else:\n",
    "        print(\"Calicación erronea, volver a intentar\")\n",
    "prom = (total/num_cal)\n",
    "print(f\"Tu promedio es: {prom:.2f}\")\n",
    "if (prom > 6):\n",
    "    print(\"El estudiante aprobó\")\n",
    "else:\n",
    "    print(\"El estudiante reprobó\")"
   ]
  },
  {
   "cell_type": "code",
   "execution_count": 40,
   "metadata": {},
   "outputs": [
    {
     "name": "stdout",
     "output_type": "stream",
     "text": [
      "0.0 + 2.0 j\n"
     ]
    }
   ],
   "source": [
    "while True:\n",
    "    try:\n",
    "        op = int(input(\"Escoja la operación\\n1: Sumar\\n2: Restar\\n3: Multiplicar\"))\n",
    "        real_1 = complex(input(\"Ingrese el primer número real (p.e 1+1j, 5, 6j):\"))\n",
    "        real_2 = complex(input(\"Ingrese el segundo número real (p.e 1+1j, 5, 6j):\"))\n",
    "        break\n",
    "    except:\n",
    "        print(\"Opearación Inválida, vuelva a intentar\")\n",
    "\n",
    "if op==1:\n",
    "    func = lambda a, b : a + b\n",
    "if op==2:\n",
    "    func = lambda a, b : a - b\n",
    "if op==1 or op==2:\n",
    "    real = str(func(real_1.real,real_2.real))\n",
    "    imag = str(func(real_1.imag, real_2.imag))\n",
    "if op==3:\n",
    "    func = lambda a, b : a * b\n",
    "    real = str(func(real_1.real,real_2.real) - func(real_1.imag, real_2.imag)) \n",
    "    imag = str(func(real_1.real, real_2.imag) + func(real_2.real, real_1.imag))\n",
    "\n",
    "if (float(imag) < 0):\n",
    "    if float(imag) == -1.0:\n",
    "        imag = \"\"\n",
    "    print(real,\"-\",imag[1:],\"j\")\n",
    "else:\n",
    "    if float(imag) == 1.0:\n",
    "        imag = \"\"\n",
    "    print(real,\"+\",imag,\"j\")"
   ]
  }
 ],
 "metadata": {
  "kernelspec": {
   "display_name": "Python 3",
   "language": "python",
   "name": "python3"
  },
  "language_info": {
   "codemirror_mode": {
    "name": "ipython",
    "version": 3
   },
   "file_extension": ".py",
   "mimetype": "text/x-python",
   "name": "python",
   "nbconvert_exporter": "python",
   "pygments_lexer": "ipython3",
   "version": "3.9.12"
  },
  "orig_nbformat": 4
 },
 "nbformat": 4,
 "nbformat_minor": 2
}
