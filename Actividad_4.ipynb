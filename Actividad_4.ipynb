{
 "cells": [
  {
   "cell_type": "markdown",
   "metadata": {},
   "source": [
    "## Modificar el proceso de recombinación + mutación"
   ]
  },
  {
   "cell_type": "code",
   "execution_count": 38,
   "metadata": {},
   "outputs": [
    {
     "name": "stdout",
     "output_type": "stream",
     "text": [
      "Padre:  [0 1 1 1 0 1 1 0]\n",
      "Madre:  [1 1 1 1 0 0 1 1]\n",
      "Hijo 1: [0 1 1 1 0 0 1 1]\n",
      "Hijo 2: [1 1 1 1 0 1 1 0]\n",
      "Gen Mutado:  7\n",
      "Hijo 1: [0 1 1 1 0 0 0 1]\n",
      "Hijo 2: [1 1 1 1 0 1 0 0]\n"
     ]
    }
   ],
   "source": [
    "# Actividad 4\n",
    "\n",
    "import numpy as np\n",
    "\n",
    "P1 = np.random.randint(0,2,8) # Padre 1\n",
    "print(\"Padre: \", P1)\n",
    "P2 = np.random.randint(0,2,8) # Padre 2\n",
    "print(\"Madre: \", P2)\n",
    "\n",
    "while(True):\n",
    "    try:\n",
    "        split = int(input(\"Seleccione el punto de recombinacion: \")) # Input del usuario\n",
    "        if split <= 0 or split >= P1.shape[0]: # Asegurarse que sea corte valido\n",
    "            raise Exception()\n",
    "        \n",
    "        # Recombinación\n",
    "        H1 = np.concatenate((P1[:split], P2[split:]))\n",
    "        H2 = np.concatenate((P2[:split], P1[split:]))\n",
    "        print(f\"Hijo 1: {H1}\")\n",
    "        print(f\"Hijo 2: {H2}\")\n",
    "\n",
    "        gene_mutation = np.random.randint(1,9) # Seleccionar gen a mutar\n",
    "        print(\"Gen Mutado: \", gene_mutation)\n",
    "        gene_mutation = gene_mutation - 1\n",
    "        \n",
    "        # Mutación\n",
    "        H1[gene_mutation] = 1 - H1[gene_mutation]\n",
    "        H2[gene_mutation] = 1 - H2[gene_mutation]\n",
    "\n",
    "        print(f\"Hijo 1: {H1}\")\n",
    "        print(f\"Hijo 2: {H2}\")\n",
    "\n",
    "        break\n",
    "\n",
    "    except:\n",
    "        print(\"Punto de corte no valido...\")"
   ]
  }
 ],
 "metadata": {
  "kernelspec": {
   "display_name": "base",
   "language": "python",
   "name": "python3"
  },
  "language_info": {
   "codemirror_mode": {
    "name": "ipython",
    "version": 3
   },
   "file_extension": ".py",
   "mimetype": "text/x-python",
   "name": "python",
   "nbconvert_exporter": "python",
   "pygments_lexer": "ipython3",
   "version": "3.9.12"
  },
  "orig_nbformat": 4
 },
 "nbformat": 4,
 "nbformat_minor": 2
}
