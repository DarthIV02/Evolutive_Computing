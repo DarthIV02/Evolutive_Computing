{
 "cells": [
  {
   "cell_type": "markdown",
   "metadata": {},
   "source": [
    "### Actividad 2 - Crear la función de reparación"
   ]
  },
  {
   "cell_type": "code",
   "execution_count": 2,
   "metadata": {},
   "outputs": [
    {
     "name": "stdout",
     "output_type": "stream",
     "text": [
      "Capacity\n",
      " 6.513143368740077\n",
      "Poblation\n",
      " [[1 0 0]\n",
      " [0 0 1]\n",
      " [1 1 0]\n",
      " [1 1 1]\n",
      " [1 1 0]]\n",
      "Weights\n",
      " [3.52485275 8.4518434  1.04959058]\n",
      "Function before: \n",
      " [ 3.52485275  1.04959058 11.97669616 13.02628674 11.97669616]\n",
      "------------------------------------------------\n",
      "Poblation\n",
      " [[1 0 1]\n",
      " [1 0 1]\n",
      " [1 0 1]\n",
      " [1 0 1]\n",
      " [1 0 1]]\n",
      "Function after: \n",
      " [4.57444333 4.57444333 4.57444333 4.57444333 4.57444333]\n"
     ]
    }
   ],
   "source": [
    "import numpy as np\n",
    "\n",
    "def repair_func(poblation, capacity, weights):\n",
    "    for i in range(poblation.shape[0]):\n",
    "        \n",
    "        knapsack_full = True if np.dot(weights, poblation[i]) > capacity else False\n",
    "            \n",
    "        while knapsack_full == True:\n",
    "            for j in range(poblation.shape[1]):\n",
    "                poblation[i, j] = 0\n",
    "                knapsack_full = False if np.dot(weights, poblation[i]) < capacity else True\n",
    "                    \n",
    "        while knapsack_full == False:\n",
    "            for j in range(poblation.shape[1]):\n",
    "                poblation[i, j] = 1\n",
    "                if np.dot(weights, poblation[i]) > capacity:\n",
    "                    poblation[i, j] = 0\n",
    "                    knapsack_full = True\n",
    "\n",
    "poblation = np.random.randint(2, size=(5, 3)) # Cromosomas, objetos = Size\n",
    "weights = np.random.uniform(1, 10, size=(3))\n",
    "capacity = np.sum(weights)/2\n",
    "\n",
    "print(\"Capacity\\n\", capacity)\n",
    "\n",
    "print(\"Poblation\\n\", poblation)\n",
    "print(\"Weights\\n\", weights)\n",
    "print(\"Function before: \\n\", np.dot(poblation, weights))\n",
    "\n",
    "repair_func(poblation, capacity, weights)\n",
    "print(\"------------------------------------------------\")\n",
    "\n",
    "print(\"Poblation\\n\", poblation)\n",
    "print(\"Function after: \\n\", np.dot(poblation, weights))"
   ]
  },
  {
   "cell_type": "code",
   "execution_count": 17,
   "metadata": {},
   "outputs": [
    {
     "name": "stdout",
     "output_type": "stream",
     "text": [
      "(100,)\n"
     ]
    }
   ],
   "source": [
    "with open(\"Dataset-knapsack_100-Obj.txt\", \"r\") as f:\n",
    "    weights = f.readlines()\n",
    "    weights = weights[1].split(\" \")\n",
    "    weights = np.array([float(w) for w in weights])\n",
    "\n",
    "print(weights.shape)"
   ]
  },
  {
   "cell_type": "code",
   "execution_count": 21,
   "metadata": {},
   "outputs": [
    {
     "name": "stdout",
     "output_type": "stream",
     "text": [
      "[9.30512848 7.03596011 7.77261669 6.78085326 9.55051284 6.98753763\n",
      " 1.2884311  2.95934247 2.08501292 3.32291962 7.14944865 1.14440137\n",
      " 8.8647075  4.09729495 2.51678162 5.21710459 8.54811908 3.19363096\n",
      " 4.76710758 4.72829743 7.62199654 1.99150961 4.54323782 6.95722733\n",
      " 4.81216923 1.07394228 6.94462127 7.56513892 5.24632914 9.31350535\n",
      " 1.43054073 1.27288685 6.0374215  2.30493325 9.64215272 1.91810339\n",
      " 9.52091201 3.29186036 1.33496639 7.93195908 1.97446345 5.07368126\n",
      " 5.91507965 7.05697019 5.58941775 9.88781791 4.5519686  7.68796459\n",
      " 4.35618453 3.16362433 6.80763966 9.58410318 9.94545152 9.44535514\n",
      " 1.82179801 3.77258433 4.40968989 3.62179134 1.11693556 1.13934706\n",
      " 4.96126604 2.622674   8.68390968 3.82250051 4.22802904 4.44436347\n",
      " 9.10339076 7.12453849 5.75610016 9.3312227  4.59172823 3.18578813\n",
      " 4.40865032 9.62851773 6.13653107 3.15106485 3.49689707 9.1724305\n",
      " 5.42876813 8.54352218 7.12133055 4.01434212 2.25313003 7.82434488\n",
      " 9.21968357 4.67752834 5.79460247 4.09426753 8.72590074 9.17148941\n",
      " 8.49535748 9.69909446 2.14246094 8.66965717 8.07129607 6.3276538\n",
      " 2.46573665 1.12911845 6.58081891 1.69523465]\n"
     ]
    }
   ],
   "source": [
    "print(weights)"
   ]
  },
  {
   "cell_type": "code",
   "execution_count": 26,
   "metadata": {},
   "outputs": [
    {
     "name": "stdout",
     "output_type": "stream",
     "text": [
      "Capacity\n",
      " 275.49371592964985\n",
      "Max of function before: \n",
      " 315.75866927784125\n",
      "Min of function before: \n",
      " 210.39058005471503\n",
      "Average of function before: \n",
      " 274.21399797503506\n",
      "ED of function before: \n",
      " 24.85574871854255\n",
      "------------------------------------------------\n",
      "Max of function after: \n",
      " 275.4753672479122\n",
      "Min of function after: \n",
      " 274.6635097099179\n",
      "Average of function after: \n",
      " 275.23264619342893\n",
      "ED of function after: \n",
      " 0.22572613147170228\n"
     ]
    }
   ],
   "source": [
    "poblation = np.random.randint(2, size=(40, 100)) # Cromosomas, objetos = Size\n",
    "capacity = np.sum(weights)/2\n",
    "\n",
    "print(\"Capacity\\n\", capacity)\n",
    "\n",
    "aptitud = np.dot(poblation, weights)\n",
    "print(\"Max of function before: \\n\", np.max(aptitud))\n",
    "print(\"Min of function before: \\n\", np.min(aptitud))\n",
    "print(\"Average of function before: \\n\", np.mean(aptitud))\n",
    "print(\"ED of function before: \\n\", np.std(aptitud))\n",
    "\n",
    "repair_func(poblation, capacity, weights)\n",
    "print(\"------------------------------------------------\")\n",
    "\n",
    "aptitud = np.dot(poblation, weights)\n",
    "print(\"Max of function after: \\n\", np.max(aptitud))\n",
    "print(\"Min of function after: \\n\", np.min(aptitud))\n",
    "print(\"Average of function after: \\n\", np.mean(aptitud))\n",
    "print(\"ED of function after: \\n\", np.std(aptitud))"
   ]
  }
 ],
 "metadata": {
  "kernelspec": {
   "display_name": "base",
   "language": "python",
   "name": "python3"
  },
  "language_info": {
   "codemirror_mode": {
    "name": "ipython",
    "version": 3
   },
   "file_extension": ".py",
   "mimetype": "text/x-python",
   "name": "python",
   "nbconvert_exporter": "python",
   "pygments_lexer": "ipython3",
   "version": "3.9.12"
  },
  "orig_nbformat": 4
 },
 "nbformat": 4,
 "nbformat_minor": 2
}
